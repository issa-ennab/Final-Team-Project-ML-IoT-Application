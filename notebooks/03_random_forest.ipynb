{
 "cells": [
  {
   "cell_type": "markdown",
   "metadata": {},
   "source": [
    "# Model: Random Forest Classifier (Starter Notebook)\n",
    "\n",
    "## Objective:\n",
    "Our goal is to predict the **road condition type** based on the vehicle sensor readings.\n",
    "Specifically, we are interested in classifying whether the vehicle is on:\n",
    "- Asphalt\n",
    "- Cobblestone\n",
    "- Dirt Road\n",
    "\n",
    "We will be using the **cleaned dataset** prepared from `01_data_cleaning.ipynb`.\n",
    "\n",
    "## Dataset:\n",
    "- Path: `dataset/cleaned_master_dataset.csv`\n",
    "- Shape: 1,080,905 rows, 81 columns (after cleaning)\n",
    "\n",
    "## Tasks Overview:\n",
    "- Load the cleaned dataset\n",
    "- Basic data exploration (optional, feel free to plot if needed)\n",
    "- Select key features for training\n",
    "- Train **Random Forest Classifier**\n",
    "- Evaluate performance (Accuracy, Confusion Matrix, etc.)"
   ]
  },
  {
   "cell_type": "code",
   "execution_count": 1,
   "metadata": {},
   "outputs": [],
   "source": [
    "import pandas as pd\n",
    "from sklearn.ensemble import RandomForestClassifier\n",
    "from sklearn.model_selection import train_test_split\n",
    "from sklearn.metrics import accuracy_score, confusion_matrix, classification_report"
   ]
  },
  {
   "cell_type": "code",
   "execution_count": 2,
   "metadata": {},
   "outputs": [
    {
     "name": "stdout",
     "output_type": "stream",
     "text": [
      "(1080905, 81)\n",
      "      timestamp  acc_x_dashboard_left  acc_y_dashboard_left  \\\n",
      "0  1.577219e+09              0.365116              0.167893   \n",
      "1  1.577219e+09              0.392649              0.176273   \n",
      "2  1.577219e+09              0.409408              0.181062   \n",
      "3  1.577219e+09              0.371101              0.164302   \n",
      "4  1.577219e+09              0.390255              0.159514   \n",
      "\n",
      "   acc_z_dashboard_left  acc_x_above_suspension_left  \\\n",
      "0              9.793961                     0.327626   \n",
      "1              9.771216                     0.381496   \n",
      "2              9.732909                     0.283333   \n",
      "3              9.749668                     0.314458   \n",
      "4              9.869378                     0.344385   \n",
      "\n",
      "   acc_y_above_suspension_left  acc_z_above_suspension_left  \\\n",
      "0                     0.172733                     9.781861   \n",
      "1                     0.189492                     9.699261   \n",
      "2                     0.182310                     9.807000   \n",
      "3                     0.230194                     9.739963   \n",
      "4                     0.202660                     9.762708   \n",
      "\n",
      "   acc_x_below_suspension_left  acc_y_below_suspension_left  \\\n",
      "0                     0.024797                     0.172611   \n",
      "1                     0.024797                     0.194158   \n",
      "2                     0.003249                     0.227677   \n",
      "3                     0.005643                     0.172611   \n",
      "4                     0.005643                     0.200144   \n",
      "\n",
      "   acc_z_below_suspension_left  ...  speed_bump_cobblestone  good_road_left  \\\n",
      "0                     9.793824  ...                       0               1   \n",
      "1                     9.842905  ...                       0               1   \n",
      "2                     9.888395  ...                       0               1   \n",
      "3                     9.871635  ...                       0               1   \n",
      "4                     9.860862  ...                       0               1   \n",
      "\n",
      "   regular_road_left  bad_road_left  good_road_right  regular_road_right  \\\n",
      "0                  0              0                1                   0   \n",
      "1                  0              0                1                   0   \n",
      "2                  0              0                1                   0   \n",
      "3                  0              0                1                   0   \n",
      "4                  0              0                1                   0   \n",
      "\n",
      "   bad_road_right  experiment_id             vehicle    scenario  \n",
      "0               0          PVS 1  Volkswagen Saveiro  Scenario 1  \n",
      "1               0          PVS 1  Volkswagen Saveiro  Scenario 1  \n",
      "2               0          PVS 1  Volkswagen Saveiro  Scenario 1  \n",
      "3               0          PVS 1  Volkswagen Saveiro  Scenario 1  \n",
      "4               0          PVS 1  Volkswagen Saveiro  Scenario 1  \n",
      "\n",
      "[5 rows x 81 columns]\n"
     ]
    }
   ],
   "source": [
    "# Load the cleaned master dataset\n",
    "df = pd.read_csv('../dataset/cleaned_master_dataset.csv')\n",
    "\n",
    "# Quick check\n",
    "print(df.shape)\n",
    "print(df.head())"
   ]
  },
  {
   "cell_type": "markdown",
   "metadata": {},
   "source": [
    "## Some EDA here"
   ]
  },
  {
   "cell_type": "code",
   "execution_count": 3,
   "metadata": {},
   "outputs": [
    {
     "data": {
      "image/png": "[encoded data removed]",
      "text/plain": [
       "<Figure size 640x480 with 1 Axes>"
      ]
     },
     "metadata": {},
     "output_type": "display_data"
    }
   ],
   "source": [
    "# Ex: Quick EDA - Visualize vibration data or vehicle-specific trends\n",
    "import seaborn as sns\n",
    "import matplotlib.pyplot as plt\n",
    "\n",
    "sns.boxplot(x='scenario', y='acc_x_dashboard_left', data=df)\n",
    "plt.title('Dashboard Acceleration X by Scenario')\n",
    "plt.show()"
   ]
  },
  {
   "cell_type": "code",
   "execution_count": 4,
   "metadata": {},
   "outputs": [
    {
     "name": "stdout",
     "output_type": "stream",
     "text": [
      "Accuracy: 0.7150165833260093\n",
      "Confusion Matrix:\n",
      " [[140407  15779]\n",
      " [ 45829  14166]]\n",
      "Classification Report:\n",
      "               precision    recall  f1-score   support\n",
      "\n",
      "           0       0.75      0.90      0.82    156186\n",
      "           1       0.47      0.24      0.32     59995\n",
      "\n",
      "    accuracy                           0.72    216181\n",
      "   macro avg       0.61      0.57      0.57    216181\n",
      "weighted avg       0.68      0.72      0.68    216181\n",
      "\n"
     ]
    }
   ],
   "source": [
    "# Example Feature Selection (This will depend on their work later)\n",
    "features = df[['acc_x_dashboard_left', 'acc_y_dashboard_left', 'acc_z_dashboard_left']]\n",
    "target = df['dirt_road']  # Example: Predicting dirt road (0 or 1)\n",
    "\n",
    "# Train-Test Split\n",
    "X_train, X_test, y_train, y_test = train_test_split(features, target, test_size=0.2, random_state=42)\n",
    "\n",
    "# Train Model\n",
    "model = RandomForestClassifier(n_estimators=100, random_state=42)\n",
    "model.fit(X_train, y_train)\n",
    "\n",
    "# Evaluate\n",
    "y_pred = model.predict(X_test)\n",
    "\n",
    "print(\"Accuracy:\", accuracy_score(y_test, y_pred))\n",
    "print(\"Confusion Matrix:\\n\", confusion_matrix(y_test, y_pred))\n",
    "print(\"Classification Report:\\n\", classification_report(y_test, y_pred))"
   ]
  },
  {
   "cell_type": "code",
   "execution_count": 6,
   "metadata": {},
   "outputs": [],
   "source": [
    "# save the model\n",
    "import pickle\n",
    "\n",
    "# Save the model to a file\n",
    "with open('../api/models/random_forest_model.pkl', 'wb') as f:\n",
    "    pickle.dump(model, f)\n"
   ]
  }
 ],
 "metadata": {
  "kernelspec": {
   "display_name": "Python 3",
   "language": "python",
   "name": "python3"
  },
  "language_info": {
   "codemirror_mode": {
    "name": "ipython",
    "version": 3
   },
   "file_extension": ".py",
   "mimetype": "text/x-python",
   "name": "python",
   "nbconvert_exporter": "python",
   "pygments_lexer": "ipython3",
   "version": "3.12.5"
  }
 },
 "nbformat": 4,
 "nbformat_minor": 2
}
