{
 "cells": [
  {
   "cell_type": "markdown",
   "metadata": {},
   "source": [
    "# Model: LSTM\n",
    "\n",
    "## Objective:\n",
    "Our goal is to predict the **road condition type** based on vehicle sensor readings over time.\n",
    "Specifically, we want to classify whether the vehicle is on:\n",
    "- Asphalt\n",
    "- Cobblestone\n",
    "- Dirt Road\n",
    "\n",
    "We will be using the **cleaned dataset** prepared from `01_data_cleaning.ipynb`.\n",
    "\n",
    "## Dataset:\n",
    "- Path: `dataset/cleaned_master_dataset.csv`\n",
    "- Shape: 1,080,905 rows, 81 columns (after cleaning)\n",
    "\n",
    "## Tasks Overview:\n",
    "- Load the cleaned dataset\n",
    "- Basic data exploration (optional, feel free to plot if needed)\n",
    "- Reshape data into sequences for LSTM input\n",
    "- Train **LSTM Model**\n",
    "- Evaluate performance (Accuracy, Confusion Matrix, etc.)"
   ]
  },
  {
   "cell_type": "code",
   "execution_count": 5,
   "metadata": {},
   "outputs": [],
   "source": [
    "import pandas as pd\n",
    "import seaborn as sns\n",
    "import matplotlib.pyplot as plt\n",
    "\n",
    "import numpy as np\n",
    "from sklearn.model_selection import train_test_split\n",
    "from tensorflow.keras.models import Sequential\n",
    "from tensorflow.keras.layers import LSTM, Dense, Dropout"
   ]
  },
  {
   "cell_type": "markdown",
   "metadata": {},
   "source": [
    "### Run the cell below if you need to run LSTM on your Mac M2 Chip ONLY"
   ]
  },
  {
   "cell_type": "code",
   "execution_count": 6,
   "metadata": {},
   "outputs": [
    {
     "name": "stdout",
     "output_type": "stream",
     "text": [
      "TensorFlow version: 2.16.1\n",
      "List of Physical Devices: [PhysicalDevice(name='/physical_device:CPU:0', device_type='CPU'), PhysicalDevice(name='/physical_device:GPU:0', device_type='GPU')]\n",
      "Is GPU available? [PhysicalDevice(name='/physical_device:GPU:0', device_type='GPU')]\n",
      "Running TensorFlow on CPU only\n"
     ]
    }
   ],
   "source": [
    "import tensorflow as tf\n",
    "\n",
    "print(\"TensorFlow version:\", tf.__version__)\n",
    "print(\"List of Physical Devices:\", tf.config.list_physical_devices())\n",
    "print(\"Is GPU available?\", tf.config.list_physical_devices('GPU'))\n",
    "\n",
    "# Disable GPU acceleration (force CPU execution)\n",
    "tf.config.set_visible_devices([], 'GPU')\n",
    "\n",
    "print(\"Running TensorFlow on CPU only\")"
   ]
  },
  {
   "cell_type": "code",
   "execution_count": 7,
   "metadata": {},
   "outputs": [
    {
     "name": "stdout",
     "output_type": "stream",
     "text": [
      "(1080905, 81)\n",
      "      timestamp  acc_x_dashboard_left  acc_y_dashboard_left  \\\n",
      "0  1.577219e+09              0.365116              0.167893   \n",
      "1  1.577219e+09              0.392649              0.176273   \n",
      "2  1.577219e+09              0.409408              0.181062   \n",
      "3  1.577219e+09              0.371101              0.164302   \n",
      "4  1.577219e+09              0.390255              0.159514   \n",
      "\n",
      "   acc_z_dashboard_left  acc_x_above_suspension_left  \\\n",
      "0              9.793961                     0.327626   \n",
      "1              9.771216                     0.381496   \n",
      "2              9.732909                     0.283333   \n",
      "3              9.749668                     0.314458   \n",
      "4              9.869378                     0.344385   \n",
      "\n",
      "   acc_y_above_suspension_left  acc_z_above_suspension_left  \\\n",
      "0                     0.172733                     9.781861   \n",
      "1                     0.189492                     9.699261   \n",
      "2                     0.182310                     9.807000   \n",
      "3                     0.230194                     9.739963   \n",
      "4                     0.202660                     9.762708   \n",
      "\n",
      "   acc_x_below_suspension_left  acc_y_below_suspension_left  \\\n",
      "0                     0.024797                     0.172611   \n",
      "1                     0.024797                     0.194158   \n",
      "2                     0.003249                     0.227677   \n",
      "3                     0.005643                     0.172611   \n",
      "4                     0.005643                     0.200144   \n",
      "\n",
      "   acc_z_below_suspension_left  ...  speed_bump_cobblestone  good_road_left  \\\n",
      "0                     9.793824  ...                       0               1   \n",
      "1                     9.842905  ...                       0               1   \n",
      "2                     9.888395  ...                       0               1   \n",
      "3                     9.871635  ...                       0               1   \n",
      "4                     9.860862  ...                       0               1   \n",
      "\n",
      "   regular_road_left  bad_road_left  good_road_right  regular_road_right  \\\n",
      "0                  0              0                1                   0   \n",
      "1                  0              0                1                   0   \n",
      "2                  0              0                1                   0   \n",
      "3                  0              0                1                   0   \n",
      "4                  0              0                1                   0   \n",
      "\n",
      "   bad_road_right  experiment_id             vehicle    scenario  \n",
      "0               0          PVS 1  Volkswagen Saveiro  Scenario 1  \n",
      "1               0          PVS 1  Volkswagen Saveiro  Scenario 1  \n",
      "2               0          PVS 1  Volkswagen Saveiro  Scenario 1  \n",
      "3               0          PVS 1  Volkswagen Saveiro  Scenario 1  \n",
      "4               0          PVS 1  Volkswagen Saveiro  Scenario 1  \n",
      "\n",
      "[5 rows x 81 columns]\n"
     ]
    }
   ],
   "source": [
    "# Load the cleaned master dataset\n",
    "df = pd.read_csv('dataset/cleaned_master_dataset.csv')\n",
    "\n",
    "# Quick check\n",
    "print(df.shape)\n",
    "print(df.head())"
   ]
  },
  {
   "cell_type": "markdown",
   "metadata": {},
   "source": [
    "## Some EDA here"
   ]
  },
  {
   "cell_type": "code",
   "execution_count": 8,
   "metadata": {},
   "outputs": [
    {
     "data": {
      "image/png": "[encoded data removed]",
      "text/plain": [
       "<Figure size 640x480 with 1 Axes>"
      ]
     },
     "metadata": {},
     "output_type": "display_data"
    }
   ],
   "source": [
    "sns.boxplot(x='scenario', y='acc_x_dashboard_left', data=df)\n",
    "plt.title('Dashboard Acceleration X by Scenario')\n",
    "plt.show()"
   ]
  },
  {
   "cell_type": "code",
   "execution_count": 9,
   "metadata": {},
   "outputs": [
    {
     "name": "stdout",
     "output_type": "stream",
     "text": [
      "X shape: (1080895, 10, 3), y shape: (1080895,)\n",
      "Epoch 1/3\n"
     ]
    },
    {
     "name": "stderr",
     "output_type": "stream",
     "text": [
      "/Users/issaennab/miniforge3/envs/tf_m1/lib/python3.10/site-packages/keras/src/layers/rnn/rnn.py:204: UserWarning: Do not pass an `input_shape`/`input_dim` argument to a layer. When using Sequential models, prefer using an `Input(shape)` object as the first layer in the model instead.\n",
      "  super().__init__(**kwargs)\n"
     ]
    },
    {
     "name": "stdout",
     "output_type": "stream",
     "text": [
      "\u001b[1m12161/12161\u001b[0m \u001b[32m━━━━━━━━━━━━━━━━━━━━\u001b[0m\u001b[37m\u001b[0m \u001b[1m72s\u001b[0m 6ms/step - accuracy: 0.7926 - loss: 0.4176 - val_accuracy: 0.8177 - val_loss: 0.3757\n",
      "Epoch 2/3\n",
      "\u001b[1m12161/12161\u001b[0m \u001b[32m━━━━━━━━━━━━━━━━━━━━\u001b[0m\u001b[37m\u001b[0m \u001b[1m74s\u001b[0m 6ms/step - accuracy: 0.8160 - loss: 0.3766 - val_accuracy: 0.8261 - val_loss: 0.3622\n",
      "Epoch 3/3\n",
      "\u001b[1m12161/12161\u001b[0m \u001b[32m━━━━━━━━━━━━━━━━━━━━\u001b[0m\u001b[37m\u001b[0m \u001b[1m82s\u001b[0m 7ms/step - accuracy: 0.8226 - loss: 0.3644 - val_accuracy: 0.8283 - val_loss: 0.3576\n",
      "\u001b[1m6756/6756\u001b[0m \u001b[32m━━━━━━━━━━━━━━━━━━━━\u001b[0m\u001b[37m\u001b[0m \u001b[1m6s\u001b[0m 938us/step - accuracy: 0.8257 - loss: 0.3599\n",
      "Test Accuracy: 0.8262\n"
     ]
    }
   ],
   "source": [
    "# Select Features (Time-Series Sensor Example)\n",
    "features = df[['acc_x_dashboard_left', 'acc_y_dashboard_left', 'acc_z_dashboard_left']].values\n",
    "target = df['dirt_road'].values  # Example: Predicting dirt road (0 or 1)\n",
    "\n",
    "# Reshape data for LSTM [samples, time_steps, features]\n",
    "# Here we use a simple window approach, e.g., 10 time steps per sample\n",
    "sequence_length = 10\n",
    "\n",
    "X = []\n",
    "y = []\n",
    "\n",
    "for i in range(len(features) - sequence_length):\n",
    "    X.append(features[i:i + sequence_length])\n",
    "    y.append(target[i + sequence_length])\n",
    "\n",
    "X = np.array(X)\n",
    "y = np.array(y)\n",
    "\n",
    "print(f\"X shape: {X.shape}, y shape: {y.shape}\")\n",
    "\n",
    "# Split into train and test sets\n",
    "X_train, X_test, y_train, y_test = train_test_split(X, y, test_size=0.2, random_state=42)\n",
    "\n",
    "# Build LSTM Model\n",
    "model = Sequential()\n",
    "model.add(LSTM(units=50, return_sequences=True, input_shape=(sequence_length, X.shape[2])))\n",
    "model.add(Dropout(0.2))\n",
    "model.add(LSTM(units=50))\n",
    "model.add(Dropout(0.2))\n",
    "model.add(Dense(units=1, activation='sigmoid'))  # Binary classification\n",
    "\n",
    "# Compile Model\n",
    "model.compile(optimizer='adam', loss='binary_crossentropy', metrics=['accuracy'])\n",
    "\n",
    "# Train Model\n",
    "history = model.fit(X_train, y_train, epochs=3, batch_size=64, validation_split=0.1)\n",
    "\n",
    "# Evaluate Model\n",
    "loss, accuracy = model.evaluate(X_test, y_test)\n",
    "print(f\"Test Accuracy: {accuracy:.4f}\")"
   ]
  }
 ],
 "metadata": {
  "kernelspec": {
   "display_name": "tf_m1",
   "language": "python",
   "name": "python3"
  },
  "language_info": {
   "codemirror_mode": {
    "name": "ipython",
    "version": 3
   },
   "file_extension": ".py",
   "mimetype": "text/x-python",
   "name": "python",
   "nbconvert_exporter": "python",
   "pygments_lexer": "ipython3",
   "version": "3.10.14"
  }
 },
 "nbformat": 4,
 "nbformat_minor": 2
}
