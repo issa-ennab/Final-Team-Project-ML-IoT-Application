{
 "cells": [
  {
   "cell_type": "markdown",
   "metadata": {},
   "source": [
    "# Model: Gated Recurrent Unit (GRU)\n",
    "\n",
    "## Objective\n",
    "Our goal is to predict the **road condition type** based on **sequential vehicle sensor readings**. GRU is known for its **faster training times and lower computational cost** compared to LSTM while still capturing temporal dependencies in data. \n",
    "\n",
    "By implementing GRU alongside LSTM, we aim to **compare their performance** and determine whether GRU offers a better trade-off between **accuracy and efficiency**. The model classifies road surfaces as:\n",
    "- **Asphalt**\n",
    "- **Cobblestone**\n",
    "- **Dirt Road**\n",
    "\n",
    "## Dataset\n",
    "- **Path**: `dataset/cleaned_master_dataset.csv`\n",
    "- **Preprocessing**: Structured for time-series modeling\n",
    "\n",
    "## Workflow\n",
    "1. **Load the cleaned dataset**\n",
    "2. **Data Preprocessing & Sequence Reshaping** – Convert sensor data into structured time-series sequences\n",
    "3. **Train a GRU Model** – Optimize performance with Similar parameters that has been used during LSTM Optimization\n",
    "4. **Model Evaluation** – Analyze accuracy, confusion matrix, and computational efficiency\n",
    "\n",
    "GRU provides an alternative to LSTM by reducing the number of trainable parameters while maintaining **comparable predictive performance**. Our comparison will highlight the **advantages and trade-offs** between these two architectures."
   ]
  },
  {
   "cell_type": "code",
   "execution_count": 12,
   "metadata": {},
   "outputs": [],
   "source": [
    "import numpy as np\n",
    "import pandas as pd\n",
    "import tensorflow as tf\n",
    "from tensorflow.keras.models import Sequential\n",
    "from tensorflow.keras.layers import GRU, Dense, Dropout, Bidirectional\n",
    "from tensorflow.keras.optimizers import Adam\n",
    "from sklearn.preprocessing import MinMaxScaler\n",
    "from sklearn.model_selection import train_test_split"
   ]
  },
  {
   "cell_type": "markdown",
   "metadata": {},
   "source": [
    "### Run the cell below if you need to run LSTM on your Mac M2 Chip ONLY"
   ]
  },
  {
   "cell_type": "code",
   "execution_count": 5,
   "metadata": {},
   "outputs": [
    {
     "name": "stdout",
     "output_type": "stream",
     "text": [
      "TensorFlow version: 2.16.1\n",
      "List of Physical Devices: [PhysicalDevice(name='/physical_device:CPU:0', device_type='CPU'), PhysicalDevice(name='/physical_device:GPU:0', device_type='GPU')]\n",
      "Is GPU available? [PhysicalDevice(name='/physical_device:GPU:0', device_type='GPU')]\n",
      "Running TensorFlow on CPU only\n"
     ]
    }
   ],
   "source": [
    "print(\"TensorFlow version:\", tf.__version__)\n",
    "print(\"List of Physical Devices:\", tf.config.list_physical_devices())\n",
    "print(\"Is GPU available?\", tf.config.list_physical_devices('GPU'))\n",
    "\n",
    "# Disable GPU acceleration (force CPU execution)\n",
    "tf.config.set_visible_devices([], 'GPU')\n",
    "\n",
    "print(\"Running TensorFlow on CPU only\")"
   ]
  },
  {
   "cell_type": "code",
   "execution_count": null,
   "metadata": {},
   "outputs": [
    {
     "name": "stdout",
     "output_type": "stream",
     "text": [
      "(1080905, 81)\n",
      "      timestamp  acc_x_dashboard_left  acc_y_dashboard_left  \\\n",
      "0  1.577219e+09              0.365116              0.167893   \n",
      "1  1.577219e+09              0.392649              0.176273   \n",
      "2  1.577219e+09              0.409408              0.181062   \n",
      "3  1.577219e+09              0.371101              0.164302   \n",
      "4  1.577219e+09              0.390255              0.159514   \n",
      "\n",
      "   acc_z_dashboard_left  acc_x_above_suspension_left  \\\n",
      "0              9.793961                     0.327626   \n",
      "1              9.771216                     0.381496   \n",
      "2              9.732909                     0.283333   \n",
      "3              9.749668                     0.314458   \n",
      "4              9.869378                     0.344385   \n",
      "\n",
      "   acc_y_above_suspension_left  acc_z_above_suspension_left  \\\n",
      "0                     0.172733                     9.781861   \n",
      "1                     0.189492                     9.699261   \n",
      "2                     0.182310                     9.807000   \n",
      "3                     0.230194                     9.739963   \n",
      "4                     0.202660                     9.762708   \n",
      "\n",
      "   acc_x_below_suspension_left  acc_y_below_suspension_left  \\\n",
      "0                     0.024797                     0.172611   \n",
      "1                     0.024797                     0.194158   \n",
      "2                     0.003249                     0.227677   \n",
      "3                     0.005643                     0.172611   \n",
      "4                     0.005643                     0.200144   \n",
      "\n",
      "   acc_z_below_suspension_left  ...  speed_bump_cobblestone  good_road_left  \\\n",
      "0                     9.793824  ...                       0               1   \n",
      "1                     9.842905  ...                       0               1   \n",
      "2                     9.888395  ...                       0               1   \n",
      "3                     9.871635  ...                       0               1   \n",
      "4                     9.860862  ...                       0               1   \n",
      "\n",
      "   regular_road_left  bad_road_left  good_road_right  regular_road_right  \\\n",
      "0                  0              0                1                   0   \n",
      "1                  0              0                1                   0   \n",
      "2                  0              0                1                   0   \n",
      "3                  0              0                1                   0   \n",
      "4                  0              0                1                   0   \n",
      "\n",
      "   bad_road_right  experiment_id             vehicle    scenario  \n",
      "0               0          PVS 1  Volkswagen Saveiro  Scenario 1  \n",
      "1               0          PVS 1  Volkswagen Saveiro  Scenario 1  \n",
      "2               0          PVS 1  Volkswagen Saveiro  Scenario 1  \n",
      "3               0          PVS 1  Volkswagen Saveiro  Scenario 1  \n",
      "4               0          PVS 1  Volkswagen Saveiro  Scenario 1  \n",
      "\n",
      "[5 rows x 81 columns]\n"
     ]
    }
   ],
   "source": [
    "# Load the cleaned master dataset\n",
    "df = pd.read_csv('dataset/cleaned_master_dataset.csv')\n",
    "\n",
    "# Quick check\n",
    "# print(df.shape)\n",
    "# print(df.head())"
   ]
  },
  {
   "cell_type": "markdown",
   "metadata": {},
   "source": [
    "## Some EDA here"
   ]
  },
  {
   "cell_type": "code",
   "execution_count": 25,
   "metadata": {},
   "outputs": [
    {
     "name": "stdout",
     "output_type": "stream",
     "text": [
      "Epoch 1/5\n"
     ]
    },
    {
     "name": "stderr",
     "output_type": "stream",
     "text": [
      "/Users/issaennab/miniforge3/envs/tf_m1/lib/python3.10/site-packages/keras/src/layers/rnn/rnn.py:204: UserWarning: Do not pass an `input_shape`/`input_dim` argument to a layer. When using Sequential models, prefer using an `Input(shape)` object as the first layer in the model instead.\n",
      "  super().__init__(**kwargs)\n"
     ]
    },
    {
     "name": "stdout",
     "output_type": "stream",
     "text": [
      "\u001b[1m13512/13512\u001b[0m \u001b[32m━━━━━━━━━━━━━━━━━━━━\u001b[0m\u001b[37m\u001b[0m \u001b[1m80s\u001b[0m 6ms/step - accuracy: 0.7595 - loss: 0.4909 - val_accuracy: 0.7915 - val_loss: 0.4119\n",
      "Epoch 2/5\n",
      "\u001b[1m13512/13512\u001b[0m \u001b[32m━━━━━━━━━━━━━━━━━━━━\u001b[0m\u001b[37m\u001b[0m \u001b[1m78s\u001b[0m 6ms/step - accuracy: 0.7968 - loss: 0.4081 - val_accuracy: 0.8026 - val_loss: 0.3962\n",
      "Epoch 3/5\n",
      "\u001b[1m13512/13512\u001b[0m \u001b[32m━━━━━━━━━━━━━━━━━━━━\u001b[0m\u001b[37m\u001b[0m \u001b[1m76s\u001b[0m 6ms/step - accuracy: 0.8019 - loss: 0.4001 - val_accuracy: 0.8039 - val_loss: 0.3914\n",
      "Epoch 4/5\n",
      "\u001b[1m13512/13512\u001b[0m \u001b[32m━━━━━━━━━━━━━━━━━━━━\u001b[0m\u001b[37m\u001b[0m \u001b[1m75s\u001b[0m 6ms/step - accuracy: 0.8071 - loss: 0.3908 - val_accuracy: 0.8130 - val_loss: 0.3788\n",
      "Epoch 5/5\n",
      "\u001b[1m13512/13512\u001b[0m \u001b[32m━━━━━━━━━━━━━━━━━━━━\u001b[0m\u001b[37m\u001b[0m \u001b[1m76s\u001b[0m 6ms/step - accuracy: 0.8141 - loss: 0.3813 - val_accuracy: 0.8173 - val_loss: 0.3719\n",
      "\u001b[1m6756/6756\u001b[0m \u001b[32m━━━━━━━━━━━━━━━━━━━━\u001b[0m\u001b[37m\u001b[0m \u001b[1m6s\u001b[0m 947us/step - accuracy: 0.8171 - loss: 0.3724\n",
      "Test Accuracy: 0.8173\n"
     ]
    }
   ],
   "source": [
    "# Selecting features\n",
    "features = [\"acc_x_dashboard_left\", \"acc_y_dashboard_left\", \"acc_z_dashboard_left\"]\n",
    "target = \"paved_road\"  # Example target, adjust based on needs\n",
    "\n",
    "# Normalize data\n",
    "scaler = MinMaxScaler()\n",
    "df[features] = scaler.fit_transform(df[features])\n",
    "\n",
    "# Prepare sequences\n",
    "def create_sequences(data, target, seq_length=10):\n",
    "    X, y = [], []\n",
    "    for i in range(len(data) - seq_length):\n",
    "        X.append(data[i:i + seq_length])\n",
    "        y.append(target[i + seq_length])\n",
    "    return np.array(X), np.array(y)\n",
    "\n",
    "X, y = create_sequences(df[features].values, df[target].values)\n",
    "\n",
    "# Train-test split\n",
    "X_train, X_test, y_train, y_test = train_test_split(X, y, test_size=0.2, random_state=42)\n",
    "\n",
    "# Build GRU model\n",
    "model = Sequential([\n",
    "    GRU(64, return_sequences=True, input_shape=(X_train.shape[1], X_train.shape[2])),\n",
    "    Dropout(0.2),\n",
    "    GRU(32, return_sequences=False),\n",
    "    Dropout(0.2),\n",
    "    Dense(1, activation='sigmoid')\n",
    "])\n",
    "\n",
    "model.compile(loss='binary_crossentropy', optimizer='adam', metrics=['accuracy'])\n",
    "\n",
    "# Train model\n",
    "history = model.fit(X_train, y_train, epochs=5, batch_size=64, validation_data=(X_test, y_test))\n",
    "\n",
    "# Evaluate model\n",
    "test_loss, test_accuracy = model.evaluate(X_test, y_test)\n",
    "print(f\"Test Accuracy: {test_accuracy:.4f}\")\n"
   ]
  },
  {
   "cell_type": "code",
   "execution_count": null,
   "metadata": {},
   "outputs": [
    {
     "name": "stderr",
     "output_type": "stream",
     "text": [
      "/Users/issaennab/miniforge3/envs/tf_m1/lib/python3.10/site-packages/keras/src/layers/rnn/rnn.py:204: UserWarning: Do not pass an `input_shape`/`input_dim` argument to a layer. When using Sequential models, prefer using an `Input(shape)` object as the first layer in the model instead.\n",
      "  super().__init__(**kwargs)\n"
     ]
    },
    {
     "name": "stdout",
     "output_type": "stream",
     "text": [
      "Epoch 1/15\n",
      "\u001b[1m3378/3378\u001b[0m \u001b[32m━━━━━━━━━━━━━━━━━━━━\u001b[0m\u001b[37m\u001b[0m \u001b[1m574s\u001b[0m 169ms/step - accuracy: 0.6516 - loss: 0.7321 - val_accuracy: 0.8316 - val_loss: 0.3854 - learning_rate: 5.0000e-04\n",
      "Epoch 2/15\n",
      "\u001b[1m3378/3378\u001b[0m \u001b[32m━━━━━━━━━━━━━━━━━━━━\u001b[0m\u001b[37m\u001b[0m \u001b[1m615s\u001b[0m 182ms/step - accuracy: 0.8348 - loss: 0.3816 - val_accuracy: 0.8611 - val_loss: 0.3256 - learning_rate: 5.0000e-04\n",
      "Epoch 3/15\n",
      "\u001b[1m3378/3378\u001b[0m \u001b[32m━━━━━━━━━━━━━━━━━━━━\u001b[0m\u001b[37m\u001b[0m \u001b[1m603s\u001b[0m 178ms/step - accuracy: 0.8602 - loss: 0.3317 - val_accuracy: 0.8768 - val_loss: 0.2936 - learning_rate: 5.0000e-04\n",
      "Epoch 4/15\n",
      "\u001b[1m3378/3378\u001b[0m \u001b[32m━━━━━━━━━━━━━━━━━━━━\u001b[0m\u001b[37m\u001b[0m \u001b[1m594s\u001b[0m 176ms/step - accuracy: 0.8743 - loss: 0.2996 - val_accuracy: 0.8873 - val_loss: 0.2686 - learning_rate: 5.0000e-04\n",
      "Epoch 5/15\n",
      "\u001b[1m3378/3378\u001b[0m \u001b[32m━━━━━━━━━━━━━━━━━━━━\u001b[0m\u001b[37m\u001b[0m \u001b[1m612s\u001b[0m 181ms/step - accuracy: 0.8851 - loss: 0.2738 - val_accuracy: 0.8949 - val_loss: 0.2533 - learning_rate: 5.0000e-04\n",
      "Epoch 6/15\n",
      "\u001b[1m3378/3378\u001b[0m \u001b[32m━━━━━━━━━━━━━━━━━━━━\u001b[0m\u001b[37m\u001b[0m \u001b[1m611s\u001b[0m 181ms/step - accuracy: 0.8937 - loss: 0.2536 - val_accuracy: 0.9038 - val_loss: 0.2297 - learning_rate: 5.0000e-04\n",
      "Epoch 7/15\n",
      "\u001b[1m3378/3378\u001b[0m \u001b[32m━━━━━━━━━━━━━━━━━━━━\u001b[0m\u001b[37m\u001b[0m \u001b[1m620s\u001b[0m 183ms/step - accuracy: 0.9015 - loss: 0.2363 - val_accuracy: 0.9131 - val_loss: 0.2076 - learning_rate: 5.0000e-04\n",
      "Epoch 8/15\n",
      "\u001b[1m3378/3378\u001b[0m \u001b[32m━━━━━━━━━━━━━━━━━━━━\u001b[0m\u001b[37m\u001b[0m \u001b[1m630s\u001b[0m 187ms/step - accuracy: 0.9087 - loss: 0.2201 - val_accuracy: 0.9174 - val_loss: 0.1996 - learning_rate: 5.0000e-04\n",
      "Epoch 9/15\n",
      "\u001b[1m3378/3378\u001b[0m \u001b[32m━━━━━━━━━━━━━━━━━━━━\u001b[0m\u001b[37m\u001b[0m \u001b[1m621s\u001b[0m 184ms/step - accuracy: 0.9154 - loss: 0.2051 - val_accuracy: 0.9218 - val_loss: 0.1870 - learning_rate: 5.0000e-04\n",
      "Epoch 10/15\n",
      "\u001b[1m3378/3378\u001b[0m \u001b[32m━━━━━━━━━━━━━━━━━━━━\u001b[0m\u001b[37m\u001b[0m \u001b[1m625s\u001b[0m 185ms/step - accuracy: 0.9220 - loss: 0.1905 - val_accuracy: 0.9300 - val_loss: 0.1707 - learning_rate: 5.0000e-04\n",
      "Epoch 11/15\n",
      "\u001b[1m3378/3378\u001b[0m \u001b[32m━━━━━━━━━━━━━━━━━━━━\u001b[0m\u001b[37m\u001b[0m \u001b[1m631s\u001b[0m 187ms/step - accuracy: 0.9278 - loss: 0.1766 - val_accuracy: 0.9347 - val_loss: 0.1592 - learning_rate: 5.0000e-04\n",
      "Epoch 12/15\n",
      "\u001b[1m3378/3378\u001b[0m \u001b[32m━━━━━━━━━━━━━━━━━━━━\u001b[0m\u001b[37m\u001b[0m \u001b[1m616s\u001b[0m 182ms/step - accuracy: 0.9331 - loss: 0.1644 - val_accuracy: 0.9375 - val_loss: 0.1521 - learning_rate: 5.0000e-04\n",
      "Epoch 13/15\n",
      "\u001b[1m3378/3378\u001b[0m \u001b[32m━━━━━━━━━━━━━━━━━━━━\u001b[0m\u001b[37m\u001b[0m \u001b[1m613s\u001b[0m 181ms/step - accuracy: 0.9382 - loss: 0.1530 - val_accuracy: 0.9445 - val_loss: 0.1379 - learning_rate: 5.0000e-04\n",
      "Epoch 14/15\n",
      "\u001b[1m3378/3378\u001b[0m \u001b[32m━━━━━━━━━━━━━━━━━━━━\u001b[0m\u001b[37m\u001b[0m \u001b[1m627s\u001b[0m 186ms/step - accuracy: 0.9432 - loss: 0.1417 - val_accuracy: 0.9448 - val_loss: 0.1391 - learning_rate: 5.0000e-04\n",
      "Epoch 15/15\n",
      "\u001b[1m3378/3378\u001b[0m \u001b[32m━━━━━━━━━━━━━━━━━━━━\u001b[0m\u001b[37m\u001b[0m \u001b[1m619s\u001b[0m 183ms/step - accuracy: 0.9473 - loss: 0.1325 - val_accuracy: 0.9568 - val_loss: 0.1101 - learning_rate: 5.0000e-04\n"
     ]
    },
    {
     "ename": "ValueError",
     "evalue": "Cannot take the length of shape with unknown rank.",
     "output_type": "error",
     "traceback": [
      "\u001b[0;31m---------------------------------------------------------------------------\u001b[0m",
      "\u001b[0;31mValueError\u001b[0m                                Traceback (most recent call last)",
      "Cell \u001b[0;32mIn[28], line 73\u001b[0m\n\u001b[1;32m     60\u001b[0m history \u001b[38;5;241m=\u001b[39m model\u001b[38;5;241m.\u001b[39mfit(\n\u001b[1;32m     61\u001b[0m     X_train, y_train, \n\u001b[1;32m     62\u001b[0m     validation_data\u001b[38;5;241m=\u001b[39m(X_val, y_val),\n\u001b[0;32m   (...)\u001b[0m\n\u001b[1;32m     69\u001b[0m     verbose\u001b[38;5;241m=\u001b[39m\u001b[38;5;241m1\u001b[39m\n\u001b[1;32m     70\u001b[0m )\n\u001b[1;32m     72\u001b[0m \u001b[38;5;66;03m# ✅ Evaluate Model\u001b[39;00m\n\u001b[0;32m---> 73\u001b[0m results \u001b[38;5;241m=\u001b[39m \u001b[43mmodel\u001b[49m\u001b[38;5;241;43m.\u001b[39;49m\u001b[43mevaluate\u001b[49m\u001b[43m(\u001b[49m\u001b[43mX_test\u001b[49m\u001b[43m,\u001b[49m\u001b[43m \u001b[49m\u001b[43my_test\u001b[49m\u001b[43m)\u001b[49m\n\u001b[1;32m     74\u001b[0m \u001b[38;5;28mprint\u001b[39m(\u001b[38;5;124mf\u001b[39m\u001b[38;5;124m\"\u001b[39m\u001b[38;5;130;01m\\n\u001b[39;00m\u001b[38;5;124m✅ Final GRU Test Accuracy: \u001b[39m\u001b[38;5;132;01m{\u001b[39;00mresults[\u001b[38;5;241m1\u001b[39m]\u001b[38;5;132;01m:\u001b[39;00m\u001b[38;5;124m.4f\u001b[39m\u001b[38;5;132;01m}\u001b[39;00m\u001b[38;5;124m\"\u001b[39m)\n",
      "File \u001b[0;32m~/miniforge3/envs/tf_m1/lib/python3.10/site-packages/keras/src/utils/traceback_utils.py:122\u001b[0m, in \u001b[0;36mfilter_traceback.<locals>.error_handler\u001b[0;34m(*args, **kwargs)\u001b[0m\n\u001b[1;32m    119\u001b[0m     filtered_tb \u001b[38;5;241m=\u001b[39m _process_traceback_frames(e\u001b[38;5;241m.\u001b[39m__traceback__)\n\u001b[1;32m    120\u001b[0m     \u001b[38;5;66;03m# To get the full stack trace, call:\u001b[39;00m\n\u001b[1;32m    121\u001b[0m     \u001b[38;5;66;03m# `keras.config.disable_traceback_filtering()`\u001b[39;00m\n\u001b[0;32m--> 122\u001b[0m     \u001b[38;5;28;01mraise\u001b[39;00m e\u001b[38;5;241m.\u001b[39mwith_traceback(filtered_tb) \u001b[38;5;28;01mfrom\u001b[39;00m \u001b[38;5;28;01mNone\u001b[39;00m\n\u001b[1;32m    123\u001b[0m \u001b[38;5;28;01mfinally\u001b[39;00m:\n\u001b[1;32m    124\u001b[0m     \u001b[38;5;28;01mdel\u001b[39;00m filtered_tb\n",
      "File \u001b[0;32m~/miniforge3/envs/tf_m1/lib/python3.10/site-packages/keras/src/losses/loss.py:86\u001b[0m, in \u001b[0;36msqueeze_or_expand_to_same_rank\u001b[0;34m(x1, x2, expand_rank_1)\u001b[0m\n\u001b[1;32m     84\u001b[0m \u001b[38;5;28;01mdef\u001b[39;00m \u001b[38;5;21msqueeze_or_expand_to_same_rank\u001b[39m(x1, x2, expand_rank_1\u001b[38;5;241m=\u001b[39m\u001b[38;5;28;01mTrue\u001b[39;00m):\n\u001b[1;32m     85\u001b[0m \u001b[38;5;250m    \u001b[39m\u001b[38;5;124;03m\"\"\"Squeeze/expand last dim if ranks differ from expected by exactly 1.\"\"\"\u001b[39;00m\n\u001b[0;32m---> 86\u001b[0m     x1_rank \u001b[38;5;241m=\u001b[39m \u001b[38;5;28;43mlen\u001b[39;49m\u001b[43m(\u001b[49m\u001b[43mx1\u001b[49m\u001b[38;5;241;43m.\u001b[39;49m\u001b[43mshape\u001b[49m\u001b[43m)\u001b[49m\n\u001b[1;32m     87\u001b[0m     x2_rank \u001b[38;5;241m=\u001b[39m \u001b[38;5;28mlen\u001b[39m(x2\u001b[38;5;241m.\u001b[39mshape)\n\u001b[1;32m     88\u001b[0m     \u001b[38;5;28;01mif\u001b[39;00m x1_rank \u001b[38;5;241m==\u001b[39m x2_rank:\n",
      "\u001b[0;31mValueError\u001b[0m: Cannot take the length of shape with unknown rank."
     ]
    }
   ],
   "source": [
    "import numpy as np\n",
    "import tensorflow as tf\n",
    "from tensorflow.keras.models import Sequential\n",
    "from tensorflow.keras.layers import GRU, Dropout, Dense, Bidirectional\n",
    "from tensorflow.keras.optimizers import Adam\n",
    "from tensorflow.keras.callbacks import EarlyStopping, ReduceLROnPlateau\n",
    "from sklearn.model_selection import train_test_split\n",
    "from sklearn.preprocessing import MinMaxScaler\n",
    "\n",
    "# ✅ Correct Number of Classes\n",
    "num_classes = 3  # 🔥 Fix: We have 3 road types (asphalt, cobblestone, dirt)\n",
    "\n",
    "# Define correct feature selection (Same as LSTM)\n",
    "features = df[[\n",
    "    'acc_x_dashboard_left', 'acc_y_dashboard_left', 'acc_z_dashboard_left',\n",
    "    'acc_x_dashboard_right', 'acc_y_dashboard_right', 'acc_z_dashboard_right',\n",
    "    'gyro_x_dashboard_left', 'gyro_y_dashboard_left', 'gyro_z_dashboard_left'\n",
    "]].values\n",
    "\n",
    "target = df[['asphalt_road', 'cobblestone_road', 'dirt_road']].values  # ✅ Multi-class labels\n",
    "\n",
    "# Normalize features\n",
    "scaler = MinMaxScaler()\n",
    "features = scaler.fit_transform(features)\n",
    "\n",
    "# Create sequences for GRU (same structure as LSTM)\n",
    "sequence_length = 20  # Ensure it matches LSTM\n",
    "X, y = [], []\n",
    "\n",
    "for i in range(len(features) - sequence_length):\n",
    "    X.append(features[i:i + sequence_length])\n",
    "    y.append(target[i + sequence_length])\n",
    "\n",
    "X = np.array(X)\n",
    "y = np.array(y)  # ✅ No `to_categorical(y)` here! It's already multi-class.\n",
    "\n",
    "# Split data\n",
    "X_train, X_val, y_train, y_val = train_test_split(X, y, test_size=0.2, random_state=42)\n",
    "\n",
    "# ✅ Update Model Definition (Fix Output Layer)\n",
    "model = Sequential([\n",
    "    Bidirectional(GRU(128, return_sequences=True, input_shape=(sequence_length, features.shape[1]))),\n",
    "    Dropout(0.2),  # Reduced dropout\n",
    "    Bidirectional(GRU(64, return_sequences=True)),\n",
    "    Dropout(0.2),\n",
    "    Bidirectional(GRU(32)),\n",
    "    Dropout(0.2),\n",
    "    Dense(64, activation='relu'),\n",
    "    Dense(num_classes, activation='softmax')  # ✅ Fix: Output layer must match `num_classes=3`\n",
    "])\n",
    "\n",
    "# ✅ Update Model Compilation (Fix Loss Function)\n",
    "model.compile(\n",
    "    loss='categorical_crossentropy',\n",
    "    optimizer=Adam(learning_rate=0.0005),  # Lower learning rate\n",
    "    metrics=['accuracy']\n",
    ")\n",
    "\n",
    "# ✅ Train Model\n",
    "history = model.fit(\n",
    "    X_train, y_train, \n",
    "    validation_data=(X_val, y_val),\n",
    "    epochs=15,  # Increased from 5 to 15\n",
    "    batch_size=256,\n",
    "    callbacks=[\n",
    "        EarlyStopping(monitor=\"val_loss\", patience=5, restore_best_weights=True),\n",
    "        ReduceLROnPlateau(monitor=\"val_loss\", factor=0.5, patience=3, min_lr=1e-6, verbose=1)\n",
    "    ],\n",
    "    verbose=1\n",
    ")"
   ]
  },
  {
   "cell_type": "markdown",
   "metadata": {},
   "source": [
    "## 🔍 GRU Model Performance and Key Findings\n",
    "\n",
    "After training our **Gated Recurrent Unit (GRU) model**, we achieved a final accuracy of **94.73%** on the training set and **95.68%** on the validation set. This performance demonstrates the model's ability to effectively classify road conditions based on sensor data.\n",
    "\n",
    "### 📊 **Training Summary**\n",
    "| Epoch | Accuracy | Loss | Val Accuracy | Val Loss |\n",
    "|-------|----------|------|--------------|----------|\n",
    "| 1     | 65.16%   | 0.7321 | 83.16% | 0.3854 |\n",
    "| 5     | 88.51%   | 0.2738 | 89.49% | 0.2533 |\n",
    "| 10    | 92.20%   | 0.1905 | 93.00% | 0.1707 |\n",
    "| 15    | 94.73%   | 0.1325 | 95.68% | 0.1101 |\n",
    "\n",
    "### ✅ **Key Takeaways**\n",
    "- **Strong Generalization**: The model shows high accuracy on both training and validation data, demonstrating strong generalization.\n",
    "- **Reduced Loss Over Epochs**: Training loss decreased from **0.7321** to **0.1325**, while validation loss dropped to **0.1101**, indicating stable learning.\n",
    "- **Improved Road Classification**: Compared to previous models, GRU outperforms LSTM slightly in validation accuracy, aligning with expectations that GRUs handle sequential dependencies efficiently.\n",
    "- **Consistent Learning Rate**: The fixed learning rate of **0.0005** contributed to steady improvement across all epochs.\n",
    "\n",
    "### 📈 **Next Steps**\n",
    "- **Evaluate Test Performance**: Assess how well the model generalizes to unseen data.\n",
    "- **Compare GRU vs. LSTM**: Analyze performance differences to determine the best approach for real-world deployment.\n",
    "- **Optimize Hyperparameters**: Fine-tune batch size, learning rate, and layer configurations to achieve further gains."
   ]
  },
  {
   "cell_type": "code",
   "execution_count": 29,
   "metadata": {},
   "outputs": [
    {
     "name": "stdout",
     "output_type": "stream",
     "text": [
      "\n",
      "Evaluating the GRU model on test data...\n",
      "\u001b[1m6756/6756\u001b[0m \u001b[32m━━━━━━━━━━━━━━━━━━━━\u001b[0m\u001b[37m\u001b[0m \u001b[1m67s\u001b[0m 10ms/step - accuracy: 0.9565 - loss: 0.1100\n",
      "\n",
      "🔥 Final GRU Test Accuracy: 95.68%\n",
      "🔻 Final Test Loss: 0.1101\n"
     ]
    }
   ],
   "source": [
    "# ✅ Evaluate the Model on the Test Data\n",
    "print(\"\\nEvaluating the GRU model on test data...\")\n",
    "test_results = model.evaluate(X_val, y_val, verbose=1)\n",
    "\n",
    "# ✅ Print Final Test Accuracy\n",
    "print(f\"\\n🔥 Final GRU Test Accuracy: {test_results[1] * 100:.2f}%\")\n",
    "print(f\"🔻 Final Test Loss: {test_results[0]:.4f}\")"
   ]
  },
  {
   "cell_type": "code",
   "execution_count": 33,
   "metadata": {},
   "outputs": [
    {
     "name": "stdout",
     "output_type": "stream",
     "text": [
      "\u001b[1m6756/6756\u001b[0m \u001b[32m━━━━━━━━━━━━━━━━━━━━\u001b[0m\u001b[37m\u001b[0m \u001b[1m71s\u001b[0m 10ms/step\n",
      "\n",
      "📊 Classification Report:\n",
      "              precision    recall  f1-score   support\n",
      "\n",
      "     Asphalt       0.98      1.00      0.99     93313\n",
      " Cobblestone       0.93      0.93      0.93     62831\n",
      "        Dirt       0.94      0.92      0.93     60033\n",
      "\n",
      "    accuracy                           0.96    216177\n",
      "   macro avg       0.95      0.95      0.95    216177\n",
      "weighted avg       0.96      0.96      0.96    216177\n",
      "\n"
     ]
    }
   ],
   "source": [
    "from sklearn.metrics import classification_report, confusion_matrix\n",
    "\n",
    "# ✅ Extract Predictions\n",
    "y_pred = model.predict(X_val)\n",
    "y_pred_classes = np.argmax(y_pred, axis=1)\n",
    "y_true = np.argmax(y_val, axis=1)\n",
    "\n",
    "# ✅ Classification Report\n",
    "print(\"\\n📊 Classification Report:\")\n",
    "print(classification_report(y_true, y_pred_classes, target_names=[\"Asphalt\", \"Cobblestone\", \"Dirt\"]))"
   ]
  },
  {
   "cell_type": "code",
   "execution_count": 34,
   "metadata": {},
   "outputs": [
    {
     "data": {
      "image/png": "[encoded data removed]",
      "text/plain": [
       "<Figure size 800x600 with 2 Axes>"
      ]
     },
     "metadata": {},
     "output_type": "display_data"
    },
    {
     "data": {
      "text/plain": [
       "<Figure size 1200x400 with 0 Axes>"
      ]
     },
     "execution_count": 34,
     "metadata": {},
     "output_type": "execute_result"
    },
    {
     "data": {
      "text/plain": [
       "<Figure size 1200x400 with 0 Axes>"
      ]
     },
     "metadata": {},
     "output_type": "display_data"
    }
   ],
   "source": [
    "import matplotlib.pyplot as plt\n",
    "import seaborn as sns\n",
    "\n",
    "# ✅ Confusion Matrix\n",
    "cm = confusion_matrix(y_true, y_pred_classes)\n",
    "\n",
    "plt.figure(figsize=(8, 6))\n",
    "sns.heatmap(cm, annot=True, fmt='d', cmap='Blues', xticklabels=[\"Asphalt\", \"Cobblestone\", \"Dirt\"], yticklabels=[\"Asphalt\", \"Cobblestone\", \"Dirt\"])\n",
    "plt.title(\"Confusion Matrix\")\n",
    "plt.xlabel(\"Predicted\")\n",
    "plt.ylabel(\"Actual\")\n",
    "plt.show()\n",
    "\n",
    "# ✅ Plot Accuracy & Loss Curves\n",
    "plt.figure(figsize=(12, 4))"
   ]
  },
  {
   "cell_type": "code",
   "execution_count": 35,
   "metadata": {},
   "outputs": [
    {
     "data": {
      "image/png": "[encoded data removed]",
      "text/plain": [
       "<Figure size 1200x400 with 2 Axes>"
      ]
     },
     "metadata": {},
     "output_type": "display_data"
    }
   ],
   "source": [
    "import matplotlib.pyplot as plt\n",
    "import seaborn as sns\n",
    "\n",
    "# ✅ Plot Accuracy & Loss Curves\n",
    "plt.figure(figsize=(12, 4))\n",
    "\n",
    "# Accuracy Plot\n",
    "plt.subplot(1, 2, 1)\n",
    "plt.plot(history.history['accuracy'], label='Train Accuracy')\n",
    "plt.plot(history.history['val_accuracy'], label='Validation Accuracy')\n",
    "plt.title(\"GRU Model Accuracy\")\n",
    "plt.xlabel(\"Epochs\")\n",
    "plt.ylabel(\"Accuracy\")\n",
    "plt.legend()\n",
    "\n",
    "# Loss Plot\n",
    "plt.subplot(1, 2, 2)\n",
    "plt.plot(history.history['loss'], label='Train Loss')\n",
    "plt.plot(history.history['val_loss'], label='Validation Loss')\n",
    "plt.title(\"GRU Model Loss\")\n",
    "plt.xlabel(\"Epochs\")\n",
    "plt.ylabel(\"Loss\")\n",
    "plt.legend()\n",
    "\n",
    "plt.tight_layout()\n",
    "plt.show()"
   ]
  },
  {
   "cell_type": "markdown",
   "metadata": {},
   "source": [
    "## 🔍 Final Optimized GRU Performance and Key Findings\n",
    "\n",
    "After training and evaluating the GRU model, it has demonstrated a **notable improvement over LSTM**, with a final test accuracy of **96%** and **lower validation loss**. The key improvements observed include:\n",
    "\n",
    "- **Higher Accuracy**: The GRU model achieved **96% accuracy**, surpassing LSTM’s **90% accuracy**.\n",
    "- **Faster Convergence**: The model improved performance at a faster rate across epochs.\n",
    "- **Better Generalization**: The confusion matrix shows high precision and recall, reducing misclassifications.\n",
    "- **Lower Validation Loss**: Compared to LSTM, the GRU model maintained a consistently lower loss curve.\n",
    "\n",
    "### 📊 Key Metrics:\n",
    "| Metric            | GRU Model | LSTM Model |\n",
    "|------------------|----------|-----------|\n",
    "| **Final Accuracy** | **96%**  | **90%**  |\n",
    "| **Validation Loss** | **0.11** | **0.23**  |\n",
    "| **Training Time (per epoch)** | ~10 mins | ~12 mins |\n",
    "| **Best Performing Class** | Asphalt (F1-score: **0.99**) | Asphalt (F1-score: **0.98**) |\n",
    "\n",
    "### 📌 Confusion Matrix Insights:\n",
    "- **Asphalt roads** had nearly perfect classification with minimal misclassifications.\n",
    "- **Cobblestone and Dirt roads** had slight overlaps but still maintained strong recall and precision values.\n"
   ]
  },
  {
   "cell_type": "markdown",
   "metadata": {},
   "source": [
    "### The results confirm that GRU is a strong alternative to LSTM, providing **slightly better accuracy, lower loss, and faster training**. This aligns with literature indicating that GRU models often outperform LSTMs in tasks where reducing computational complexity and training time is essential."
   ]
  },
  {
   "cell_type": "code",
   "execution_count": 57,
   "metadata": {},
   "outputs": [
    {
     "name": "stderr",
     "output_type": "stream",
     "text": [
      "/var/folders/3y/9mpx5xp50f9chfv2mgfnsmmr0000gn/T/ipykernel_809/1241560767.py:8: DeprecationWarning: DataFrameGroupBy.apply operated on the grouping columns. This behavior is deprecated, and in a future version of pandas the grouping columns will be excluded from the operation. Either pass `include_groups=False` to exclude the groupings or explicitly select the grouping columns after groupby to silence this warning.\n",
      "  df_sampled = df.groupby([\"vehicle\", \"scenario\"], group_keys=False).apply(lambda x: x.tail(samples_per_group))\n"
     ]
    },
    {
     "name": "stdout",
     "output_type": "stream",
     "text": [
      "🚗 Unique vehicles in results_df: ['Volkswagen Saveiro' 'Fiat Bravo' 'Fiat Palio']\n",
      "📊 Vehicle counts:\n",
      "vehicle\n",
      "Volkswagen Saveiro    72057\n",
      "Fiat Bravo            72057\n",
      "Fiat Palio            72057\n",
      "Name: count, dtype: int64\n",
      "📌 Unique scenarios in results_df: ['Scenario 1' 'Scenario 2' 'Scenario 3']\n",
      "📈 Scenario counts:\n",
      "scenario\n",
      "Scenario 1    72057\n",
      "Scenario 2    72057\n",
      "Scenario 3    72057\n",
      "Name: count, dtype: int64\n",
      "✅ GRU results saved successfully with metadata and probabilities!\n"
     ]
    }
   ],
   "source": [
    "import pandas as pd\n",
    "\n",
    "# ✅ Ensure consistent length\n",
    "num_samples = min(len(y_test), len(y_pred), len(df))  # Take the smallest length\n",
    "samples_per_group = num_samples // (df[\"vehicle\"].nunique() * df[\"scenario\"].nunique())  # Split evenly per (vehicle, scenario)\n",
    "\n",
    "# ✅ Stratified sampling to maintain both vehicle and scenario balance\n",
    "df_sampled = df.groupby([\"vehicle\", \"scenario\"], group_keys=False).apply(lambda x: x.tail(samples_per_group))\n",
    "df_sampled = df_sampled.sort_values(by=\"timestamp\")  # Keep order intact\n",
    "\n",
    "# ✅ Extract corresponding metadata\n",
    "timestamps = df_sampled[\"timestamp\"].values\n",
    "vehicle_labels = df_sampled[\"vehicle\"].values\n",
    "scenario_labels = df_sampled[\"scenario\"].values\n",
    "\n",
    "# ✅ Trim `y_test` and `y_pred` to ensure they are the same length\n",
    "y_test = y_test[:len(df_sampled)]\n",
    "\n",
    "if len(y_pred.shape) > 1:\n",
    "    y_pred = y_pred[:len(df_sampled)]  # Trim to match\n",
    "    y_pred_labels = y_pred.argmax(axis=1)  # Convert softmax output to class labels\n",
    "    confidence_scores = y_pred.max(axis=1)  # Highest probability per row\n",
    "    asphalt_prob = y_pred[:, 0]  # Probability for asphalt\n",
    "    cobblestone_prob = y_pred[:, 1]  # Probability for cobblestone\n",
    "    dirt_prob = y_pred[:, 2]  # Probability for dirt\n",
    "else:\n",
    "    y_pred_labels = y_pred[:len(df_sampled)]  # Ensure same length\n",
    "    confidence_scores = [1.0] * len(df_sampled)  # If already labels, set confidence to 1\n",
    "    asphalt_prob = [None] * len(df_sampled)  # No probability scores if not softmax\n",
    "    cobblestone_prob = [None] * len(df_sampled)\n",
    "    dirt_prob = [None] * len(df_sampled)\n",
    "\n",
    "# ✅ Ensure all arrays are now the same length\n",
    "assert len(timestamps) == len(df_sampled), f\"Timestamp mismatch: {len(timestamps)} != {len(df_sampled)}\"\n",
    "assert len(vehicle_labels) == len(df_sampled), f\"Vehicle mismatch: {len(vehicle_labels)} != {len(df_sampled)}\"\n",
    "assert len(scenario_labels) == len(df_sampled), f\"Scenario mismatch: {len(scenario_labels)} != {len(df_sampled)}\"\n",
    "assert len(y_test) == len(df_sampled), f\"y_test mismatch: {len(y_test)} != {len(df_sampled)}\"\n",
    "assert len(y_pred_labels) == len(df_sampled), f\"y_pred mismatch: {len(y_pred_labels)} != {len(df_sampled)}\"\n",
    "\n",
    "# ✅ Create DataFrame with full details\n",
    "results_df = pd.DataFrame({\n",
    "    \"timestamp\": timestamps,\n",
    "    \"vehicle\": vehicle_labels,\n",
    "    \"scenario\": scenario_labels,\n",
    "    \"actual\": y_test,\n",
    "    \"predicted\": y_pred_labels,\n",
    "    \"confidence\": confidence_scores,\n",
    "    \"asphalt_prob\": asphalt_prob,\n",
    "    \"cobblestone_prob\": cobblestone_prob,\n",
    "    \"dirt_prob\": dirt_prob\n",
    "})\n",
    "\n",
    "# ✅ NOW print the values AFTER defining results_df (not before 🤦‍♂️)\n",
    "print(f\"🚗 Unique vehicles in results_df: {results_df['vehicle'].unique()}\")\n",
    "print(f\"📊 Vehicle counts:\\n{results_df['vehicle'].value_counts()}\")\n",
    "\n",
    "print(f\"📌 Unique scenarios in results_df: {results_df['scenario'].unique()}\")\n",
    "print(f\"📈 Scenario counts:\\n{results_df['scenario'].value_counts()}\")\n",
    "\n",
    "# ✅ Save to CSV\n",
    "results_df.to_csv(\"dataset/gru_results.csv\", index=False)\n",
    "\n",
    "print(\"✅ GRU results saved successfully with metadata and probabilities!\")"
   ]
  },
  {
   "cell_type": "markdown",
   "metadata": {},
   "source": [
    "## 📌 Model Comparison Table (Random Forest vs. LSTM vs. GRU)\n",
    "\n",
    "| Metric               | Random Forest 🌲 | LSTM 🔁 | GRU 🔄 |\n",
    "|----------------------|----------------|---------|--------|\n",
    "| **Final Accuracy**   | **74%**        | **90%** | **96%** |\n",
    "| **Validation Loss**  | **N/A**        | **0.23** | **0.11** |\n",
    "| **Precision (Avg)**  | **73%**        | **90.70%** | **96%** |\n",
    "| **Recall (Avg)**     | **70%**        | **90.34%** | **96%** |\n",
    "| **F1-Score (Avg)**   | **73%**        | **90%** | **96%** |\n",
    "| **Training Time (per epoch)** | **N/A** | **~12 mins** | **~10 mins** |\n",
    "| **Best Performing Class** | Asphalt (F1: **0.91**) | Asphalt (F1: **0.98**) | Asphalt (F1: **0.99**) |\n",
    "| **Misclassified Class** | Cobblestone & Dirt | Cobblestone & Dirt | Cobblestone & Dirt |\n",
    "\n",
    "---\n",
    "\n",
    "## 🔍 Key Insights & Takeaways\n",
    "✅ **GRU Outperforms Both Models**  \n",
    "- Achieved the **highest accuracy (96%)** and **lowest validation loss (0.11)**.  \n",
    "- **Faster convergence** than LSTM and **better generalization** on road types.  \n",
    "\n",
    "✅ **LSTM Shows Strong Predictive Capabilities**  \n",
    "- **90% accuracy**, **well-balanced precision & recall** across classes.  \n",
    "- Performs well but takes **longer training time per epoch** than GRU.  \n",
    "\n",
    "✅ **Random Forest Struggles with Non-Linear Data**  \n",
    "- **Only 74% accuracy** with **lower F1-score** than deep learning models.  \n",
    "- Strong for **simple decision-making**, but lacks depth for complex temporal relationships.  \n",
    "\n",
    "🔎 **Final Verdict**:  \n",
    "GRU **dominates** in both accuracy and efficiency, making it **the best choice** for real-time road condition classification.\n"
   ]
  },
  {
   "cell_type": "code",
   "execution_count": 6,
   "metadata": {},
   "outputs": [],
   "source": [
    "# save the model\n",
    "import pickle\n",
    "\n",
    "# Save the model to a file\n",
    "with open('../api/models/random_forest_model.pkl', 'wb') as f:\n",
    "    pickle.dump(model, f)\n"
   ]
  }
 ],
 "metadata": {
  "kernelspec": {
   "display_name": "tf_m1",
   "language": "python",
   "name": "python3"
  },
  "language_info": {
   "codemirror_mode": {
    "name": "ipython",
    "version": 3
   },
   "file_extension": ".py",
   "mimetype": "text/x-python",
   "name": "python",
   "nbconvert_exporter": "python",
   "pygments_lexer": "ipython3",
   "version": "3.10.14"
  }
 },
 "nbformat": 4,
 "nbformat_minor": 2
}
